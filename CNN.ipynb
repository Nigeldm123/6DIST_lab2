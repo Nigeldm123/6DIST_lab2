{
  "nbformat": 4,
  "nbformat_minor": 0,
  "metadata": {
    "colab": {
      "provenance": [],
      "gpuType": "T4",
      "authorship_tag": "ABX9TyNbipqtHIG5Z/B9i9JfJVX6",
      "include_colab_link": true
    },
    "kernelspec": {
      "name": "python3",
      "display_name": "Python 3"
    },
    "language_info": {
      "name": "python"
    },
    "accelerator": "GPU",
    "widgets": {
      "application/vnd.jupyter.widget-state+json": {
        "1232d921c06a41d4b7f5a33e1d3d7d1b": {
          "model_module": "@jupyter-widgets/controls",
          "model_name": "VBoxModel",
          "model_module_version": "1.5.0",
          "state": {
            "_dom_classes": [],
            "_model_module": "@jupyter-widgets/controls",
            "_model_module_version": "1.5.0",
            "_model_name": "VBoxModel",
            "_view_count": null,
            "_view_module": "@jupyter-widgets/controls",
            "_view_module_version": "1.5.0",
            "_view_name": "VBoxView",
            "box_style": "",
            "children": [
              "IPY_MODEL_6bb6ac93b24b46ae9dc4427b708979e9",
              "IPY_MODEL_5cae521fb4ba403ca7874d7dd4f95f38"
            ],
            "layout": "IPY_MODEL_d3be3e480ee04c14bb93a069127e85cd"
          }
        },
        "6bb6ac93b24b46ae9dc4427b708979e9": {
          "model_module": "@jupyter-widgets/controls",
          "model_name": "LabelModel",
          "model_module_version": "1.5.0",
          "state": {
            "_dom_classes": [],
            "_model_module": "@jupyter-widgets/controls",
            "_model_module_version": "1.5.0",
            "_model_name": "LabelModel",
            "_view_count": null,
            "_view_module": "@jupyter-widgets/controls",
            "_view_module_version": "1.5.0",
            "_view_name": "LabelView",
            "description": "",
            "description_tooltip": null,
            "layout": "IPY_MODEL_970ec3406ac14070bd256a54a3c01ccf",
            "placeholder": "​",
            "style": "IPY_MODEL_442a543fb39a4c9ea33e6cceb60fbbd5",
            "value": "Waiting for wandb.init()...\r"
          }
        },
        "5cae521fb4ba403ca7874d7dd4f95f38": {
          "model_module": "@jupyter-widgets/controls",
          "model_name": "FloatProgressModel",
          "model_module_version": "1.5.0",
          "state": {
            "_dom_classes": [],
            "_model_module": "@jupyter-widgets/controls",
            "_model_module_version": "1.5.0",
            "_model_name": "FloatProgressModel",
            "_view_count": null,
            "_view_module": "@jupyter-widgets/controls",
            "_view_module_version": "1.5.0",
            "_view_name": "ProgressView",
            "bar_style": "",
            "description": "",
            "description_tooltip": null,
            "layout": "IPY_MODEL_4bebbdf432c94876a9086c69fcfc37ad",
            "max": 1,
            "min": 0,
            "orientation": "horizontal",
            "style": "IPY_MODEL_55a470b3300248e185c60a647c0594ca",
            "value": 0.9900056869666716
          }
        },
        "d3be3e480ee04c14bb93a069127e85cd": {
          "model_module": "@jupyter-widgets/base",
          "model_name": "LayoutModel",
          "model_module_version": "1.2.0",
          "state": {
            "_model_module": "@jupyter-widgets/base",
            "_model_module_version": "1.2.0",
            "_model_name": "LayoutModel",
            "_view_count": null,
            "_view_module": "@jupyter-widgets/base",
            "_view_module_version": "1.2.0",
            "_view_name": "LayoutView",
            "align_content": null,
            "align_items": null,
            "align_self": null,
            "border": null,
            "bottom": null,
            "display": null,
            "flex": null,
            "flex_flow": null,
            "grid_area": null,
            "grid_auto_columns": null,
            "grid_auto_flow": null,
            "grid_auto_rows": null,
            "grid_column": null,
            "grid_gap": null,
            "grid_row": null,
            "grid_template_areas": null,
            "grid_template_columns": null,
            "grid_template_rows": null,
            "height": null,
            "justify_content": null,
            "justify_items": null,
            "left": null,
            "margin": null,
            "max_height": null,
            "max_width": null,
            "min_height": null,
            "min_width": null,
            "object_fit": null,
            "object_position": null,
            "order": null,
            "overflow": null,
            "overflow_x": null,
            "overflow_y": null,
            "padding": null,
            "right": null,
            "top": null,
            "visibility": null,
            "width": null
          }
        },
        "970ec3406ac14070bd256a54a3c01ccf": {
          "model_module": "@jupyter-widgets/base",
          "model_name": "LayoutModel",
          "model_module_version": "1.2.0",
          "state": {
            "_model_module": "@jupyter-widgets/base",
            "_model_module_version": "1.2.0",
            "_model_name": "LayoutModel",
            "_view_count": null,
            "_view_module": "@jupyter-widgets/base",
            "_view_module_version": "1.2.0",
            "_view_name": "LayoutView",
            "align_content": null,
            "align_items": null,
            "align_self": null,
            "border": null,
            "bottom": null,
            "display": null,
            "flex": null,
            "flex_flow": null,
            "grid_area": null,
            "grid_auto_columns": null,
            "grid_auto_flow": null,
            "grid_auto_rows": null,
            "grid_column": null,
            "grid_gap": null,
            "grid_row": null,
            "grid_template_areas": null,
            "grid_template_columns": null,
            "grid_template_rows": null,
            "height": null,
            "justify_content": null,
            "justify_items": null,
            "left": null,
            "margin": null,
            "max_height": null,
            "max_width": null,
            "min_height": null,
            "min_width": null,
            "object_fit": null,
            "object_position": null,
            "order": null,
            "overflow": null,
            "overflow_x": null,
            "overflow_y": null,
            "padding": null,
            "right": null,
            "top": null,
            "visibility": null,
            "width": null
          }
        },
        "442a543fb39a4c9ea33e6cceb60fbbd5": {
          "model_module": "@jupyter-widgets/controls",
          "model_name": "DescriptionStyleModel",
          "model_module_version": "1.5.0",
          "state": {
            "_model_module": "@jupyter-widgets/controls",
            "_model_module_version": "1.5.0",
            "_model_name": "DescriptionStyleModel",
            "_view_count": null,
            "_view_module": "@jupyter-widgets/base",
            "_view_module_version": "1.2.0",
            "_view_name": "StyleView",
            "description_width": ""
          }
        },
        "4bebbdf432c94876a9086c69fcfc37ad": {
          "model_module": "@jupyter-widgets/base",
          "model_name": "LayoutModel",
          "model_module_version": "1.2.0",
          "state": {
            "_model_module": "@jupyter-widgets/base",
            "_model_module_version": "1.2.0",
            "_model_name": "LayoutModel",
            "_view_count": null,
            "_view_module": "@jupyter-widgets/base",
            "_view_module_version": "1.2.0",
            "_view_name": "LayoutView",
            "align_content": null,
            "align_items": null,
            "align_self": null,
            "border": null,
            "bottom": null,
            "display": null,
            "flex": null,
            "flex_flow": null,
            "grid_area": null,
            "grid_auto_columns": null,
            "grid_auto_flow": null,
            "grid_auto_rows": null,
            "grid_column": null,
            "grid_gap": null,
            "grid_row": null,
            "grid_template_areas": null,
            "grid_template_columns": null,
            "grid_template_rows": null,
            "height": null,
            "justify_content": null,
            "justify_items": null,
            "left": null,
            "margin": null,
            "max_height": null,
            "max_width": null,
            "min_height": null,
            "min_width": null,
            "object_fit": null,
            "object_position": null,
            "order": null,
            "overflow": null,
            "overflow_x": null,
            "overflow_y": null,
            "padding": null,
            "right": null,
            "top": null,
            "visibility": null,
            "width": null
          }
        },
        "55a470b3300248e185c60a647c0594ca": {
          "model_module": "@jupyter-widgets/controls",
          "model_name": "ProgressStyleModel",
          "model_module_version": "1.5.0",
          "state": {
            "_model_module": "@jupyter-widgets/controls",
            "_model_module_version": "1.5.0",
            "_model_name": "ProgressStyleModel",
            "_view_count": null,
            "_view_module": "@jupyter-widgets/base",
            "_view_module_version": "1.2.0",
            "_view_name": "StyleView",
            "bar_color": null,
            "description_width": ""
          }
        }
      }
    }
  },
  "cells": [
    {
      "cell_type": "markdown",
      "metadata": {
        "id": "view-in-github",
        "colab_type": "text"
      },
      "source": [
        "<a href=\"https://colab.research.google.com/github/Nigeldm123/6DIST_lab2/blob/main/CNN.ipynb\" target=\"_parent\"><img src=\"https://colab.research.google.com/assets/colab-badge.svg\" alt=\"Open In Colab\"/></a>"
      ]
    },
    {
      "cell_type": "markdown",
      "source": [
        "# 3.2 Tasks"
      ],
      "metadata": {
        "id": "M0DMban1EyJ3"
      }
    },
    {
      "cell_type": "markdown",
      "source": [
        "## 3.2.1 Getting Started"
      ],
      "metadata": {
        "id": "85yZTa-aE7Ta"
      }
    },
    {
      "cell_type": "code",
      "source": [
        "import torch\n",
        "import torchvision\n",
        "import torchvision.transforms as transforms\n",
        "\n",
        "transform = transforms.Compose(\n",
        "    [transforms.ToTensor(),\n",
        "     transforms.Normalize((0.5, 0.5, 0.5), (0.5, 0.5, 0.5))])\n",
        "\n",
        "batch_size = 4\n",
        "\n",
        "trainset = torchvision.datasets.CIFAR10(root='./data', train=True,\n",
        "                                        download=True, transform=transform)\n",
        "trainloader = torch.utils.data.DataLoader(trainset, batch_size=batch_size,\n",
        "                                          shuffle=True, num_workers=2)\n",
        "\n",
        "testset = torchvision.datasets.CIFAR10(root='./data', train=False,\n",
        "                                       download=True, transform=transform)\n",
        "testloader = torch.utils.data.DataLoader(testset, batch_size=batch_size,\n",
        "                                         shuffle=False, num_workers=2)\n",
        "\n",
        "classes = ('plane', 'car', 'bird', 'cat',\n",
        "           'deer', 'dog', 'frog', 'horse', 'ship', 'truck')"
      ],
      "metadata": {
        "colab": {
          "base_uri": "https://localhost:8080/"
        },
        "id": "S7mZfIqoFOz2",
        "outputId": "0ed3710a-5109-4ccd-8028-cf3505fd0b48"
      },
      "execution_count": null,
      "outputs": [
        {
          "output_type": "stream",
          "name": "stdout",
          "text": [
            "Files already downloaded and verified\n",
            "Files already downloaded and verified\n"
          ]
        }
      ]
    },
    {
      "cell_type": "markdown",
      "source": [
        "### Visualizing dataset\n"
      ],
      "metadata": {
        "id": "4o2ThMxHMI6s"
      }
    },
    {
      "cell_type": "code",
      "source": [
        "import matplotlib.pyplot as plt\n",
        "import numpy as np\n",
        "\n",
        "# functions to show an image\n",
        "\n",
        "\n",
        "def imshow(img):\n",
        "    img = img / 2 + 0.5     # unnormalize\n",
        "    npimg = img.numpy()\n",
        "    plt.imshow(np.transpose(npimg, (1, 2, 0)))\n",
        "    plt.show()\n",
        "\n",
        "\n",
        "# get some random training images\n",
        "dataiter = iter(trainloader)\n",
        "images, labels = next(dataiter)\n",
        "\n",
        "# print the size of the images\n",
        "print(f\"Image batch shape: {images.shape}\")\n",
        "\n",
        "# show images\n",
        "imshow(torchvision.utils.make_grid(images))\n",
        "# print labels\n",
        "print(' '.join(f'{classes[labels[j]]:5s}' for j in range(batch_size)))"
      ],
      "metadata": {
        "colab": {
          "base_uri": "https://localhost:8080/",
          "height": 229
        },
        "id": "-1nh4rceMOhS",
        "outputId": "c634fa71-78e0-4824-d9b6-292aadad94d0"
      },
      "execution_count": null,
      "outputs": [
        {
          "output_type": "stream",
          "name": "stdout",
          "text": [
            "Image batch shape: torch.Size([4, 3, 32, 32])\n"
          ]
        },
        {
          "output_type": "display_data",
          "data": {
            "text/plain": [
              "<Figure size 640x480 with 1 Axes>"
            ],
            "image/png": "[encoded data removed]"
          },
          "metadata": {}
        },
        {
          "output_type": "stream",
          "name": "stdout",
          "text": [
            "cat   dog   cat   cat  \n"
          ]
        }
      ]
    },
    {
      "cell_type": "markdown",
      "source": [
        "### Designing the Convolutional layers![Screenshot 2024-10-08 142558.png](data:image/png;base64,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)\n",
        "\n",
        "![image.png](data:image/png;base64,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)"
      ],
      "metadata": {
        "id": "6B5wHki-Fr1z"
      }
    },
    {
      "cell_type": "code",
      "source": [
        "import torch\n",
        "import torch.nn as nn\n",
        "import torch.nn.functional as F\n",
        "\n",
        "class Net(nn.Module):\n",
        "    def __init__(self):\n",
        "        super(Net, self).__init__()\n",
        "\n",
        "        # Convolutional layers: Note initially 3 in channels because RGB image!\n",
        "        self.conv1 = nn.Conv2d(in_channels=3, out_channels=32, kernel_size=3, padding=1)\n",
        "        self.conv2 = nn.Conv2d(in_channels=32, out_channels=64, kernel_size=3, stride=1, padding=1)\n",
        "        self.pool1 = nn.MaxPool2d(kernel_size=2, stride=2)\n",
        "\n",
        "        self.conv3 = nn.Conv2d(in_channels=64, out_channels=128, kernel_size=3, stride=1, padding=1)\n",
        "        self.conv4 = nn.Conv2d(in_channels=128, out_channels=128, kernel_size=3, stride=1, padding=1)\n",
        "        self.pool2 = nn.MaxPool2d(kernel_size=2, stride=2)\n",
        "\n",
        "        self.conv5 = nn.Conv2d(in_channels=128, out_channels=256, kernel_size=3, stride=1, padding=1)\n",
        "        self.conv6 = nn.Conv2d(in_channels=256, out_channels=256, kernel_size=3, stride=1, padding=1)\n",
        "        self.pool3 = nn.MaxPool2d(kernel_size=2, stride=2)\n",
        "\n",
        "        # Dummy input to determine output size after convolutions\n",
        "        dummy_input = torch.randn(1, 3, 32, 32)  # Assuming input size is 32x32 RGB images\n",
        "        n_channels = self.get_size(dummy_input)\n",
        "\n",
        "        print(f'Number of features after flattening: {n_channels}')\n",
        "\n",
        "        # Fully connected layers based on the structure\n",
        "        self.fc1 = nn.Linear(n_channels, 1024)\n",
        "        self.fc2 = nn.Linear(1024, 512)\n",
        "        self.fc3 = nn.Linear(512, 10)  # 10 classes for the output\n",
        "\n",
        "    def get_size(self, x):\n",
        "        # Forward pass through convolutional layers to get flattened size\n",
        "        x = F.relu(self.conv1(x))\n",
        "        x = F.relu(self.conv2(x))\n",
        "        x = self.pool1(x)  # First maxpool after conv2\n",
        "\n",
        "        x = F.relu(self.conv3(x))\n",
        "        x = F.relu(self.conv4(x))\n",
        "        x = self.pool2(x)  # Second maxpool after conv4\n",
        "\n",
        "        x = F.relu(self.conv5(x))\n",
        "        x = F.relu(self.conv6(x))\n",
        "        x = self.pool3(x)  # Third maxpool after conv6\n",
        "\n",
        "        # Flatten the tensor for fully connected layers\n",
        "        x = torch.flatten(x, 1)  # Flatten all dimensions except batch\n",
        "\n",
        "        return x.shape[1]  # Return the number of features\n",
        "\n",
        "    def forward(self, x):\n",
        "        # Apply convolutional layers with ReLU activations and max-pooling\n",
        "        x = F.relu(self.conv1(x))\n",
        "        x = F.relu(self.conv2(x))\n",
        "        x = self.pool1(x)  # First maxpool after conv2\n",
        "\n",
        "        x = F.relu(self.conv3(x))\n",
        "        x = F.relu(self.conv4(x))\n",
        "        x = self.pool2(x)  # Second maxpool after conv4\n",
        "\n",
        "        x = F.relu(self.conv5(x))\n",
        "        x = F.relu(self.conv6(x))\n",
        "        x = self.pool3(x)  # Third maxpool after conv6\n",
        "\n",
        "        # Flatten the tensor for fully connected layers\n",
        "        x = torch.flatten(x, 1)  # Flatten all dimensions except batch\n",
        "\n",
        "        # Fully connected layers with ReLU activations\n",
        "        x = F.relu(self.fc1(x))  # Linear_1: 1024 units + ReLU\n",
        "        x = F.relu(self.fc2(x))  # Linear_2: 512 units + ReLU\n",
        "        x = self.fc3(x)  # Linear_3: 10 units (output), no activation\n",
        "\n",
        "        return x\n",
        "\n",
        "# Instantiate the model\n",
        "net = Net()\n"
      ],
      "metadata": {
        "colab": {
          "base_uri": "https://localhost:8080/"
        },
        "id": "KjML8zAuFxO9",
        "outputId": "b6301bb9-41ae-438a-fc26-bc3200b532aa"
      },
      "execution_count": null,
      "outputs": [
        {
          "output_type": "stream",
          "name": "stdout",
          "text": [
            "Number of features after flattening: 4096\n"
          ]
        }
      ]
    },
    {
      "cell_type": "markdown",
      "source": [
        "## 3.2.2 Training preparation"
      ],
      "metadata": {
        "id": "1_FH6eKZTDn6"
      }
    },
    {
      "cell_type": "markdown",
      "source": [
        "![image.png](data:image/png;base64,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)"
      ],
      "metadata": {
        "id": "_6fmb_oGTSmX"
      }
    },
    {
      "cell_type": "code",
      "source": [
        "import torch.optim as optim\n",
        "\n",
        "LR = 0.01\n",
        "num_epochs = 4\n",
        "criterion = nn.CrossEntropyLoss()\n",
        "optimizer = optim.SGD(net.parameters(), lr=LR)"
      ],
      "metadata": {
        "id": "2A5cyLLNTdoD"
      },
      "execution_count": null,
      "outputs": []
    },
    {
      "cell_type": "code",
      "source": [
        "!pip install wandb -qU\n",
        "# Log in to your W&B account\n",
        "import wandb\n",
        "import random\n",
        "import math\n",
        "import sklearn.metrics\n",
        "import numpy\n",
        "\n",
        "# start a new wandb run to track this script\n",
        "wandb.init(\n",
        "    # set the wandb project where this run will be logged\n",
        "    project=\"CNN\",\n",
        "    # We pass a run name (otherwise it’ll be randomly assigned, like sunshine-lollypop-10)\n",
        "    name=f\"experiment_3_Epochs_{num_epochs}_LR_{LR}\",\n",
        "    # track hyperparameters and run metadata\n",
        "    config={\n",
        "    \"learning_rate\": LR,\n",
        "    \"architecture\": \"CNN\",\n",
        "    \"dataset\": \"CIFAR-100\",\n",
        "    \"epochs\": num_epochs,\n",
        "    }\n",
        ")\n",
        "\n",
        "for epoch in range(num_epochs):  # loop over the dataset multiple times\n",
        "\n",
        "    running_loss = 0.0\n",
        "    for i, data in enumerate(trainloader, 0):\n",
        "        # get the inputs; data is a list of [inputs, labels]\n",
        "        inputs, labels = data\n",
        "\n",
        "        # zero the parameter gradients\n",
        "        optimizer.zero_grad()\n",
        "\n",
        "        # forward + backward + optimize\n",
        "        outputs = net(inputs)\n",
        "        loss = criterion(outputs, labels)\n",
        "        loss.backward()\n",
        "        optimizer.step()\n",
        "\n",
        "        # print statistics\n",
        "        running_loss += loss.item()\n",
        "        if i % 2000 == 1999:    # print every 2000 mini-batches\n",
        "            print(f'[{epoch + 1}, {i + 1:5d}] loss: {running_loss / 2000:.3f}')\n",
        "\n",
        "            # 2️. Log metrics from your script to W&B\n",
        "            wandb.log({\"epoch\": epoch, \"running_loss\": running_loss / 2000})\n",
        "\n",
        "            running_loss = 0.0\n",
        "\n",
        "print('Finished Training')\n",
        "print('Initializing Testing')\n",
        "\n",
        "correct = 0\n",
        "total = 0\n",
        "# since we're not training, we don't need to calculate the gradients for our outputs\n",
        "with torch.no_grad():\n",
        "    total_labels = numpy.array([])  # Ensure it's a NumPy array\n",
        "    total_predicted = numpy.array([])  # Ensure it's a NumPy array\n",
        "    for data in testloader:\n",
        "        images, labels = data\n",
        "        # calculate outputs by running images through the network\n",
        "        outputs = net(images)\n",
        "        # the class with the highest energy is what we choose as prediction\n",
        "        _, predicted = torch.max(outputs.data, 1)\n",
        "        total += labels.size(0)\n",
        "        correct += (predicted == labels).sum().item()\n",
        "\n",
        "        # Append labels and predictions as NumPy arrays\n",
        "        total_labels = numpy.append(total_labels, labels.numpy())\n",
        "        total_predicted = numpy.append(total_predicted, predicted.numpy())\n",
        "\n",
        "    print(\"numpy: \", total_labels)\n",
        "    print(\"numpy: \", total_predicted)\n",
        "\n",
        "    tensor_labels = torch.from_numpy(total_labels).long()  # Convert to long\n",
        "    tensor_predicted = torch.from_numpy(total_predicted).long()  # Convert to long\n",
        "\n",
        "    print(\"tensor: \", tensor_labels)\n",
        "    print(\"tensor: \", tensor_predicted)\n",
        "\n",
        "    test_accuracy = sklearn.metrics.accuracy_score(tensor_labels, tensor_predicted)\n",
        "    F1_score = sklearn.metrics.f1_score(tensor_labels, tensor_predicted, average=\"weighted\")\n",
        "    recall = sklearn.metrics.recall_score(tensor_labels, tensor_predicted, average=\"weighted\")\n",
        "\n",
        "print(f'Accuracy of the network on the 10000 test images: {100 * correct // total} %')\n",
        "wandb.log({\"test_accuracy\" : test_accuracy, \"F1_score\" : F1_score, \"Recall\" : recall})\n",
        "\n",
        "\n",
        "# Mark the run as finished\n",
        "wandb.finish()"
      ],
      "metadata": {
        "colab": {
          "base_uri": "https://localhost:8080/",
          "height": 470,
          "referenced_widgets": [
            "1232d921c06a41d4b7f5a33e1d3d7d1b",
            "6bb6ac93b24b46ae9dc4427b708979e9",
            "5cae521fb4ba403ca7874d7dd4f95f38",
            "d3be3e480ee04c14bb93a069127e85cd",
            "970ec3406ac14070bd256a54a3c01ccf",
            "442a543fb39a4c9ea33e6cceb60fbbd5",
            "4bebbdf432c94876a9086c69fcfc37ad",
            "55a470b3300248e185c60a647c0594ca"
          ]
        },
        "id": "VHNS-zjwUYgF",
        "outputId": "2c90c6ff-3ecf-40df-d23e-7dfd90427882"
      },
      "execution_count": null,
      "outputs": [
        {
          "output_type": "display_data",
          "data": {
            "text/plain": [
              "VBox(children=(Label(value='Waiting for wandb.init()...\\r'), FloatProgress(value=0.011113053977785765, max=1.0…"
            ],
            "application/vnd.jupyter.widget-view+json": {
              "version_major": 2,
              "version_minor": 0,
              "model_id": "1232d921c06a41d4b7f5a33e1d3d7d1b"
            }
          },
          "metadata": {}
        },
        {
          "output_type": "error",
          "ename": "CommError",
          "evalue": "Run initialization has timed out after 90.0 sec. \nPlease refer to the documentation for additional information: https://docs.wandb.ai/guides/track/tracking-faq#initstarterror-error-communicating-with-wandb-process-",
          "traceback": [
            "\u001b[0;31m---------------------------------------------------------------------------\u001b[0m",
            "\u001b[0;31mCommError\u001b[0m                                 Traceback (most recent call last)",
            "\u001b[0;32m<ipython-input-16-b8207b561456>\u001b[0m in \u001b[0;36m<cell line: 10>\u001b[0;34m()\u001b[0m\n\u001b[1;32m      8\u001b[0m \u001b[0;34m\u001b[0m\u001b[0m\n\u001b[1;32m      9\u001b[0m \u001b[0;31m# start a new wandb run to track this script\u001b[0m\u001b[0;34m\u001b[0m\u001b[0;34m\u001b[0m\u001b[0m\n\u001b[0;32m---> 10\u001b[0;31m wandb.init(\n\u001b[0m\u001b[1;32m     11\u001b[0m     \u001b[0;31m# set the wandb project where this run will be logged\u001b[0m\u001b[0;34m\u001b[0m\u001b[0;34m\u001b[0m\u001b[0m\n\u001b[1;32m     12\u001b[0m     \u001b[0mproject\u001b[0m\u001b[0;34m=\u001b[0m\u001b[0;34m\"CNN\"\u001b[0m\u001b[0;34m,\u001b[0m\u001b[0;34m\u001b[0m\u001b[0;34m\u001b[0m\u001b[0m\n",
            "\u001b[0;32m/usr/local/lib/python3.10/dist-packages/wandb/sdk/wandb_init.py\u001b[0m in \u001b[0;36minit\u001b[0;34m(job_type, dir, config, project, entity, reinit, tags, group, name, notes, magic, config_exclude_keys, config_include_keys, anonymous, mode, allow_val_change, resume, force, tensorboard, sync_tensorboard, monitor_gym, save_code, id, fork_from, resume_from, settings)\u001b[0m\n\u001b[1;32m   1264\u001b[0m         \u001b[0;31m# Need to build delay into this sentry capture because our exit hooks\u001b[0m\u001b[0;34m\u001b[0m\u001b[0;34m\u001b[0m\u001b[0m\n\u001b[1;32m   1265\u001b[0m         \u001b[0;31m# mess with sentry's ability to send out errors before the program ends.\u001b[0m\u001b[0;34m\u001b[0m\u001b[0;34m\u001b[0m\u001b[0m\n\u001b[0;32m-> 1266\u001b[0;31m         \u001b[0mwandb\u001b[0m\u001b[0;34m.\u001b[0m\u001b[0m_sentry\u001b[0m\u001b[0;34m.\u001b[0m\u001b[0mreraise\u001b[0m\u001b[0;34m(\u001b[0m\u001b[0me\u001b[0m\u001b[0;34m)\u001b[0m\u001b[0;34m\u001b[0m\u001b[0;34m\u001b[0m\u001b[0m\n\u001b[0m\u001b[1;32m   1267\u001b[0m         \u001b[0;32mraise\u001b[0m \u001b[0mAssertionError\u001b[0m\u001b[0;34m(\u001b[0m\u001b[0;34m)\u001b[0m  \u001b[0;31m# unreachable\u001b[0m\u001b[0;34m\u001b[0m\u001b[0;34m\u001b[0m\u001b[0m\n",
            "\u001b[0;32m/usr/local/lib/python3.10/dist-packages/wandb/analytics/sentry.py\u001b[0m in \u001b[0;36mreraise\u001b[0;34m(self, exc)\u001b[0m\n\u001b[1;32m    153\u001b[0m         \u001b[0;31m# this will messily add this \"reraise\" function to the stack trace,\u001b[0m\u001b[0;34m\u001b[0m\u001b[0;34m\u001b[0m\u001b[0m\n\u001b[1;32m    154\u001b[0m         \u001b[0;31m# but hopefully it's not too bad\u001b[0m\u001b[0;34m\u001b[0m\u001b[0;34m\u001b[0m\u001b[0m\n\u001b[0;32m--> 155\u001b[0;31m         \u001b[0;32mraise\u001b[0m \u001b[0mexc\u001b[0m\u001b[0;34m.\u001b[0m\u001b[0mwith_traceback\u001b[0m\u001b[0;34m(\u001b[0m\u001b[0msys\u001b[0m\u001b[0;34m.\u001b[0m\u001b[0mexc_info\u001b[0m\u001b[0;34m(\u001b[0m\u001b[0;34m)\u001b[0m\u001b[0;34m[\u001b[0m\u001b[0;36m2\u001b[0m\u001b[0;34m]\u001b[0m\u001b[0;34m)\u001b[0m\u001b[0;34m\u001b[0m\u001b[0;34m\u001b[0m\u001b[0m\n\u001b[0m\u001b[1;32m    156\u001b[0m \u001b[0;34m\u001b[0m\u001b[0m\n\u001b[1;32m    157\u001b[0m     \u001b[0;34m@\u001b[0m\u001b[0m_safe_noop\u001b[0m\u001b[0;34m\u001b[0m\u001b[0;34m\u001b[0m\u001b[0m\n",
            "\u001b[0;32m/usr/local/lib/python3.10/dist-packages/wandb/sdk/wandb_init.py\u001b[0m in \u001b[0;36minit\u001b[0;34m(job_type, dir, config, project, entity, reinit, tags, group, name, notes, magic, config_exclude_keys, config_include_keys, anonymous, mode, allow_val_change, resume, force, tensorboard, sync_tensorboard, monitor_gym, save_code, id, fork_from, resume_from, settings)\u001b[0m\n\u001b[1;32m   1250\u001b[0m         \u001b[0mwi\u001b[0m \u001b[0;34m=\u001b[0m \u001b[0m_WandbInit\u001b[0m\u001b[0;34m(\u001b[0m\u001b[0;34m)\u001b[0m\u001b[0;34m\u001b[0m\u001b[0;34m\u001b[0m\u001b[0m\n\u001b[1;32m   1251\u001b[0m         \u001b[0mwi\u001b[0m\u001b[0;34m.\u001b[0m\u001b[0msetup\u001b[0m\u001b[0;34m(\u001b[0m\u001b[0mkwargs\u001b[0m\u001b[0;34m)\u001b[0m\u001b[0;34m\u001b[0m\u001b[0;34m\u001b[0m\u001b[0m\n\u001b[0;32m-> 1252\u001b[0;31m         \u001b[0;32mreturn\u001b[0m \u001b[0mwi\u001b[0m\u001b[0;34m.\u001b[0m\u001b[0minit\u001b[0m\u001b[0;34m(\u001b[0m\u001b[0;34m)\u001b[0m\u001b[0;34m\u001b[0m\u001b[0;34m\u001b[0m\u001b[0m\n\u001b[0m\u001b[1;32m   1253\u001b[0m \u001b[0;34m\u001b[0m\u001b[0m\n\u001b[1;32m   1254\u001b[0m     \u001b[0;32mexcept\u001b[0m \u001b[0mKeyboardInterrupt\u001b[0m \u001b[0;32mas\u001b[0m \u001b[0me\u001b[0m\u001b[0;34m:\u001b[0m\u001b[0;34m\u001b[0m\u001b[0;34m\u001b[0m\u001b[0m\n",
            "\u001b[0;32m/usr/local/lib/python3.10/dist-packages/wandb/sdk/wandb_init.py\u001b[0m in \u001b[0;36minit\u001b[0;34m(self)\u001b[0m\n\u001b[1;32m    842\u001b[0m                 \u001b[0mbackend\u001b[0m\u001b[0;34m.\u001b[0m\u001b[0mcleanup\u001b[0m\u001b[0;34m(\u001b[0m\u001b[0;34m)\u001b[0m\u001b[0;34m\u001b[0m\u001b[0;34m\u001b[0m\u001b[0m\n\u001b[1;32m    843\u001b[0m                 \u001b[0mself\u001b[0m\u001b[0;34m.\u001b[0m\u001b[0mteardown\u001b[0m\u001b[0;34m(\u001b[0m\u001b[0;34m)\u001b[0m\u001b[0;34m\u001b[0m\u001b[0;34m\u001b[0m\u001b[0m\n\u001b[0;32m--> 844\u001b[0;31m             \u001b[0;32mraise\u001b[0m \u001b[0merror\u001b[0m\u001b[0;34m\u001b[0m\u001b[0;34m\u001b[0m\u001b[0m\n\u001b[0m\u001b[1;32m    845\u001b[0m \u001b[0;34m\u001b[0m\u001b[0m\n\u001b[1;32m    846\u001b[0m         \u001b[0;32massert\u001b[0m \u001b[0mrun_result\u001b[0m \u001b[0;32mis\u001b[0m \u001b[0;32mnot\u001b[0m \u001b[0;32mNone\u001b[0m  \u001b[0;31m# for mypy\u001b[0m\u001b[0;34m\u001b[0m\u001b[0;34m\u001b[0m\u001b[0m\n",
            "\u001b[0;31mCommError\u001b[0m: Run initialization has timed out after 90.0 sec. \nPlease refer to the documentation for additional information: https://docs.wandb.ai/guides/track/tracking-faq#initstarterror-error-communicating-with-wandb-process-"
          ]
        }
      ]
    },
    {
      "cell_type": "code",
      "source": [
        "PATH = './NN/cifar_net_exp3.pth'\n",
        "torch.save(net.state_dict(), PATH)"
      ],
      "metadata": {
        "id": "Q3Q7ZlnAqIQs"
      },
      "execution_count": null,
      "outputs": []
    }
  ]
}